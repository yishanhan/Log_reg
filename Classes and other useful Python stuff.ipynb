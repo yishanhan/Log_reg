{
 "cells": [
  {
   "cell_type": "markdown",
   "metadata": {},
   "source": [
    "### Classes\n",
    "\n",
    "In object-oriented programming, we have this notion of classes. Classes are basically a blueprint for specifying what attributes an object has. Here, we have a person class."
   ]
  },
  {
   "cell_type": "code",
   "execution_count": 1,
   "metadata": {
    "collapsed": true
   },
   "outputs": [],
   "source": [
    "class Person(object):\n",
    "    # this is a class attribute. there is only one of this variable. you'll see what i mean later.\n",
    "    num_people_created = 0\n",
    "    # __init__ is called when you call brian = Person(\"Brian\", \"M\", 20)\n",
    "    # this is also called the constructor\n",
    "    def __init__(self, name, gender, age):\n",
    "        # self.name, self.gender, self.age are instance variables. they are specific to an instance of a class\n",
    "        self.name = name\n",
    "        self.gender = gender\n",
    "        self.age = age\n",
    "        # notice how we access the class variable like this\n",
    "        Person.num_people_created += 1\n",
    "    \n",
    "    # like __init__, the first parameter is always self. this means that change_name is an instance method\n",
    "    # >>> brian = Person(\"Brian\", \"M\", 20)\n",
    "    # >>> brian.change_name(\"Yishan\") # notice how we only use one parameter and ignore self\n",
    "    # that's because brian is automatically passed in as self when you do brian.change_name(\"Yishan\")\n",
    "    # in fact, brian.change_name(\"Yishan\") is the same as Person.change_name(brian, \"Yishan\")\n",
    "    # but, we use brian.change_name(\"Yishan\") because it is simpler\n",
    "    def change_name(self, name):\n",
    "        self.name = name\n",
    "        \n",
    "    def slap(self, person):\n",
    "        # notice how we accessed other object's attributes within our own class\n",
    "        print \"{0} slapped {1}!\".format(self.name, person.name)"
   ]
  },
  {
   "cell_type": "code",
   "execution_count": 2,
   "metadata": {
    "collapsed": false
   },
   "outputs": [
    {
     "name": "stdout",
     "output_type": "stream",
     "text": [
      "My new name is:  Yishan\n",
      "My new name is:  Brian\n",
      "Brian slapped Yishan!\n"
     ]
    }
   ],
   "source": [
    "# notice how we instantiate or create an object\n",
    "brian = Person(\"Brian\", \"M\", 20)\n",
    "brian.change_name(\"Yishan\")\n",
    "print \"My new name is: \", brian.name\n",
    "brian.change_name(\"Brian\")\n",
    "print \"My new name is: \", brian.name\n",
    "yishan = Person(\"Yishan\", \"F\", 20)\n",
    "brian.slap(yishan)"
   ]
  },
  {
   "cell_type": "markdown",
   "metadata": {},
   "source": [
    "You can also have classes inherit other classes. For example, we can have a superhero class who inherits from Person, but also has extra features."
   ]
  },
  {
   "cell_type": "code",
   "execution_count": 3,
   "metadata": {
    "collapsed": true
   },
   "outputs": [],
   "source": [
    "# notice how we use SuperHero(Person) to say we're inherting from Person\n",
    "class SuperHero(Person):\n",
    "    def __init__(self, name, gender, superpower_fn):\n",
    "        # we call Person's constructor so now we have self.name, self.gender, and even self.age (altho we set it to 0)\n",
    "        super(SuperHero, self).__init__(name, gender, 0)\n",
    "        self.superpower_fn = superpower_fn\n",
    "        \n",
    "    # notice how we defined a function with the same in the superclass. if we have\n",
    "    # >>> capt = SuperHero(\"Captain America\", 'M', lambda dude_1, dude_2: \"{0} super-punched {1}\".format(dude_1, dude_2))\n",
    "    # >>> capt.slap(yishan)\n",
    "    # \"Captain America super-punched Yishan\"\n",
    "    def slap(self, person):\n",
    "        # let's have person slap the superhero first, see what gets outputted\n",
    "        person.slap(self)\n",
    "        # now let's have the superhero slap the person\n",
    "        print self.superpower_fn(self.name, person.name)"
   ]
  },
  {
   "cell_type": "code",
   "execution_count": 4,
   "metadata": {
    "collapsed": false
   },
   "outputs": [
    {
     "name": "stdout",
     "output_type": "stream",
     "text": [
      "Yishan slapped Captain America!\n",
      "Captain America super-punched Yishan!\n"
     ]
    }
   ],
   "source": [
    "capt = SuperHero(\"Captain America\", 'M', lambda dude_1, dude_2: \"{0} super-punched {1}!\".format(dude_1, dude_2))\n",
    "capt.slap(yishan)"
   ]
  },
  {
   "cell_type": "code",
   "execution_count": 5,
   "metadata": {
    "collapsed": false
   },
   "outputs": [
    {
     "name": "stdout",
     "output_type": "stream",
     "text": [
      "3\n",
      "3\n",
      "3\n",
      "3\n"
     ]
    }
   ],
   "source": [
    "# remember about our class variable? they're all the same no matter if we access them from the subclass or superclass\n",
    "print capt.num_people_created\n",
    "print SuperHero.num_people_created\n",
    "print Person.num_people_created\n",
    "print brian.num_people_created"
   ]
  },
  {
   "cell_type": "markdown",
   "metadata": {},
   "source": [
    "Here's some other useful python stuff you'll find in handy.\n",
    "\n",
    "First is list comprehension, which is a way to create a list in one line."
   ]
  },
  {
   "cell_type": "code",
   "execution_count": 8,
   "metadata": {
    "collapsed": false
   },
   "outputs": [
    {
     "name": "stdout",
     "output_type": "stream",
     "text": [
      "[0, 2, 4, 6, 8]\n",
      "[0, 2, 4, 6, 8]\n"
     ]
    }
   ],
   "source": [
    "a = [i for i in range(10) if i % 2 == 0]\n",
    "print a\n",
    "# this is the same as\n",
    "b = []\n",
    "for i in range(10):\n",
    "    if i % 2 == 0:\n",
    "        b.append(i)\n",
    "print b\n",
    "# see how it's much simpler?"
   ]
  },
  {
   "cell_type": "markdown",
   "metadata": {},
   "source": [
    "There's also the map and filter function, which often comes in handy."
   ]
  },
  {
   "cell_type": "code",
   "execution_count": 10,
   "metadata": {
    "collapsed": false
   },
   "outputs": [
    {
     "name": "stdout",
     "output_type": "stream",
     "text": [
      "[2, 4, 6, 8, 10]\n",
      "[2, 4, 6, 8, 10]\n"
     ]
    }
   ],
   "source": [
    "d = [1,2,3,4,5]\n",
    "c = map(lambda x: x * 2, d)\n",
    "print c\n",
    "e = []\n",
    "# this is the same as\n",
    "for i in range(len(d)):\n",
    "    e.append(d[i] * 2)\n",
    "print e"
   ]
  },
  {
   "cell_type": "code",
   "execution_count": 11,
   "metadata": {
    "collapsed": false
   },
   "outputs": [
    {
     "name": "stdout",
     "output_type": "stream",
     "text": [
      "[2, 4]\n",
      "[2, 4]\n"
     ]
    }
   ],
   "source": [
    "f = filter(lambda x: x % 2 == 0, d)\n",
    "print f\n",
    "# this is the same as\n",
    "g = []\n",
    "for i in range(len(d)):\n",
    "    if d[i] % 2 == 0:\n",
    "        g.append(d[i])\n",
    "print g"
   ]
  },
  {
   "cell_type": "code",
   "execution_count": null,
   "metadata": {
    "collapsed": true
   },
   "outputs": [],
   "source": []
  }
 ],
 "metadata": {
  "kernelspec": {
   "display_name": "Python 2",
   "language": "python",
   "name": "python2"
  },
  "language_info": {
   "codemirror_mode": {
    "name": "ipython",
    "version": 2
   },
   "file_extension": ".py",
   "mimetype": "text/x-python",
   "name": "python",
   "nbconvert_exporter": "python",
   "pygments_lexer": "ipython2",
   "version": "2.7.11"
  }
 },
 "nbformat": 4,
 "nbformat_minor": 0
}
