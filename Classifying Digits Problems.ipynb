{
 "cells": [
  {
   "cell_type": "markdown",
   "metadata": {
    "collapsed": true
   },
   "source": [
    "### Classifying Digits\n",
    "\n",
    "In this notebook, we'll be tackling the problem of classifying digits from images from the age-old MNIST dataset. We'll learn about how take raw data and run it through a pre-built classifier. In the process, we'll talk about cross validation and the sklearn library for python.\n",
    "\n",
    "<img src=\"http://simonwinder.com/wp-content/uploads/2015/07/mnistExamples.png\">"
   ]
  },
  {
   "cell_type": "markdown",
   "metadata": {},
   "source": [
    "Install the dependencies:\n",
    "```\n",
    "pip install numpy scipy matplotlib scikit-learn\n",
    "```"
   ]
  },
  {
   "cell_type": "code",
   "execution_count": 10,
   "metadata": {
    "collapsed": true
   },
   "outputs": [],
   "source": [
    "%matplotlib inline\n",
    "import scipy.io as spio\n",
    "import numpy as np\n",
    "import matplotlib.pyplot as plt\n",
    "import random\n",
    "from sklearn import svm\n",
    "\n",
    "# Your data file\n",
    "TRAIN = \"train.mat\""
   ]
  },
  {
   "cell_type": "markdown",
   "metadata": {},
   "source": [
    "The data is provided in a .mat file, which is typically used by MATLAB. However, a python library called scipy can help you load the file. Google for which method to call, add the required import, then call the function below.\n",
    "\n",
    "You'll need to run `pip install scipy` to use scipy."
   ]
  },
  {
   "cell_type": "code",
   "execution_count": 11,
   "metadata": {
    "collapsed": false
   },
   "outputs": [
    {
     "name": "stdout",
     "output_type": "stream",
     "text": [
      "True\n",
      "True\n"
     ]
    }
   ],
   "source": [
    "def get_data(mat_file):\n",
    "    data = spio.loadmat(mat_file)\n",
    "    train_images = data['train_images']\n",
    "    train_labels = data['train_labels'].reshape(data['train_labels'].shape[0],)\n",
    "    return train_images, train_labels\n",
    "\n",
    "train_images, train_labels = get_data(TRAIN)\n",
    "# this should be True, each image is 28x28 and there are 60000 train images\n",
    "print train_images.shape == (28, 28, 60000)\n",
    "# should be a single vector of size 60000, each item is a number 0-9\n",
    "print train_labels.shape == (60000,)"
   ]
  },
  {
   "cell_type": "code",
   "execution_count": 12,
   "metadata": {
    "collapsed": false
   },
   "outputs": [],
   "source": [
    "data = spio.loadmat(TRAIN)\n",
    "\n"
   ]
  },
  {
   "cell_type": "markdown",
   "metadata": {},
   "source": [
    "Now, instead of our data being 28x28x60000, we would rather have our data be nxd, or 60000x784. Use `np.reshape` to convert our data to 784x60000, then use `np.swapaxes` to swap the axes around to make it 60000x784."
   ]
  },
  {
   "cell_type": "code",
   "execution_count": 13,
   "metadata": {
    "collapsed": false
   },
   "outputs": [
    {
     "name": "stdout",
     "output_type": "stream",
     "text": [
      "True\n"
     ]
    }
   ],
   "source": [
    "def reshape_images(images):\n",
    "    \"\"\"\n",
    "        Images is 28 x 28 x n array. We want to return a nx784 array.\n",
    "    \"\"\"\n",
    "    return np.reshape(images,(images.shape[0]*images.shape[1], images.shape[2])).swapaxes(0,1)\n",
    "\n",
    "train_images = reshape_images(train_images)\n",
    "print train_images.shape == (60000, 784)\n"
   ]
  },
  {
   "cell_type": "markdown",
   "metadata": {},
   "source": [
    "For your convenience, I've included the following function so that you can visualize an image from the data. Often, it helps to know what your data looks like."
   ]
  },
  {
   "cell_type": "code",
   "execution_count": 14,
   "metadata": {
    "collapsed": false
   },
   "outputs": [
    {
     "data": {
      "image/png": "[encoded data removed]",
      "text/plain": [
       "<matplotlib.figure.Figure at 0x103480ed0>"
      ]
     },
     "metadata": {},
     "output_type": "display_data"
    },
    {
     "name": "stdout",
     "output_type": "stream",
     "text": [
      "Image is:  8\n"
     ]
    }
   ],
   "source": [
    "def show_image(train_image_sample):\n",
    "    rs = np.reshape(train_image_sample, (28, 28))\n",
    "    plt.imshow(rs, cmap='gray')\n",
    "    plt.show()\n",
    "    \n",
    "# feel free to change this value\n",
    "show_image(train_images[50000])\n",
    "print \"Image is: \", train_labels[50000]"
   ]
  },
  {
   "cell_type": "markdown",
   "metadata": {},
   "source": [
    "Alright, now for the actual machine learning part. We're going to use a LinearSVC to classify our digits. In the past, we've only worked with only 2 classes in 2 dimensions, trying to find the line that best separates them. In the multi-dimensional case, LinearSVC will try to find the best line that separates 0 from everything else, then 1 from everything else, and so on. Thus, we'll have 10 different decision boundaries, but all of that happens under the hood so we don't really need to look into details for now."
   ]
  },
  {
   "cell_type": "markdown",
   "metadata": {},
   "source": [
    "First, we want to randomly shuffle the data. If you haven't realized, the first several thousand are 0's, the second are 1's, and so on. If we don't shuffle the data, we won't learn properly. So, to shuffle the data, instead of using `np.random.shuffle` on the data, we want to get shuffled indicies. So, if we only have 5 samples of data, we want to get shuffled indices such as [3,2,5,0,1] so that we can do `train_data[3,2,5,0,1]` and `train_labels[3,2,5,0,1]`. Look at the `random.sample` method. It takes in a list, which you can pass in a list or `range` of numbers between [0, 60000) and request 60000 numbers without replacement."
   ]
  },
  {
   "cell_type": "code",
   "execution_count": 15,
   "metadata": {
    "collapsed": false
   },
   "outputs": [],
   "source": [
    "def random_indices(lst):\n",
    "    np.random.shuffle(lst) # random.shuffle() works in place and does not return a value\n",
    "    return lst\n",
    "\n",
    "train_random_indices = random_indices(range(60000)) # change to 60000 when you have the above implemented correctly\n",
    "X, y = train_images[train_random_indices], train_labels[train_random_indices]\n"
   ]
  },
  {
   "cell_type": "markdown",
   "metadata": {},
   "source": [
    "Now, we want to separate our data and labels into two groups, training and validation. We fit our data to the training data and check its performance on the validation set. If training accuracy is higher than our validation accuracy, it might mean that we have overfitted to the data. Generally, we want them to be similar. Implement the following function. Split is a number 0 < split < 1. If split is .75, then the first 3/4 of train_images is X_train and the last 1/4 is X_val."
   ]
  },
  {
   "cell_type": "code",
   "execution_count": 16,
   "metadata": {
    "collapsed": false
   },
   "outputs": [
    {
     "name": "stdout",
     "output_type": "stream",
     "text": [
      "True\n"
     ]
    },
    {
     "name": "stderr",
     "output_type": "stream",
     "text": [
      "/usr/local/lib/python2.7/site-packages/ipykernel/__main__.py:3: VisibleDeprecationWarning: using a non-integer number instead of an integer will result in an error in the future\n",
      "  app.launch_new_instance()\n"
     ]
    }
   ],
   "source": [
    "def get_train_val_split(X, y, split):\n",
    "    num_train = split * X.shape[0]\n",
    "    return X[:num_train], y[:num_train], X[num_train:], y[num_train:]\n",
    "\n",
    "X_train, y_train, X_val, y_val = get_train_val_split(X, y, 0.05)\n",
    "print X_train.shape == (3000, 784)"
   ]
  },
  {
   "cell_type": "markdown",
   "metadata": {},
   "source": [
    "Let's train our data on the training set. Use `svm.LinearSVC` with parameter C=lambda defined in the method parameter. Use the `clf.fit` method to fit the data to the X_train and y_train."
   ]
  },
  {
   "cell_type": "code",
   "execution_count": 17,
   "metadata": {
    "collapsed": false
   },
   "outputs": [
    {
     "data": {
      "text/plain": [
       "LinearSVC(C=1, class_weight=None, dual=True, fit_intercept=True,\n",
       "     intercept_scaling=1, loss='squared_hinge', max_iter=1000,\n",
       "     multi_class='ovr', penalty='l2', random_state=None, tol=0.0001,\n",
       "     verbose=0)"
      ]
     },
     "execution_count": 17,
     "metadata": {},
     "output_type": "execute_result"
    }
   ],
   "source": [
    "def train(X_train, y_train, C=1):\n",
    "    lin_clf = svm.LinearSVC(C=C)\n",
    "    lin_clf.fit(X_train, y_train)\n",
    "    return lin_clf\n",
    "\n",
    "lin_clf = train(X_train, y_train, C=1)\n",
    "lin_clf"
   ]
  },
  {
   "cell_type": "markdown",
   "metadata": {},
   "source": [
    "Now, calculate the accuracy of the model. Use `clf.predict(X_val)` to get a `y_pred` and compare it with `y_val`. Return the number of predictions correct over the total number of items in the validation set."
   ]
  },
  {
   "cell_type": "code",
   "execution_count": 18,
   "metadata": {
    "collapsed": false
   },
   "outputs": [
    {
     "data": {
      "text/plain": [
       "0.7145438596491228"
      ]
     },
     "execution_count": 18,
     "metadata": {},
     "output_type": "execute_result"
    }
   ],
   "source": [
    "def validate(clf, X_val, y_val):\n",
    "    y_pred = clf.predict(X_val)\n",
    "    return float(sum(y_pred == y_val))/y_val.shape[0]\n",
    "  \n",
    "validate(lin_clf, X_val, y_val)"
   ]
  },
  {
   "cell_type": "markdown",
   "metadata": {},
   "source": [
    "Next, we will do cross validation. Cross validation is the process of splitting up the training data into $k$ groups, training on $k - 1$ groups and validating on the remaining group. We do this $k$ times, with a different group used as the validation set at each time. Then, we take the $k$ individual accuracies and average them to get a cross validation score.\n",
    "\n",
    "Now why do we use cross validation? A simple answer would be that we would like to see how our model generalizes to an independent dataset. Obviously, we would like to see if we're overfitting. In addition, we can use cross validation to help us choose our hyperparameters. A <b>hyperparameter</b> is like parameters that we can manually change. For example, the model we use, the constant lambda (or C in this case), for polynomial models, the max degree of the polynomial, etc. There are many hyperparameters and we can run cross validation on each set of hyperparameters and compare them to get the best hyperparameters.\n",
    "\n",
    "So, how do we choose $k$? There isn't a really good answer and if you search it up, it's usually just what people feel like using. In general, if you have very little data, maybe you would consider leave one out cross validation, where if you have $n$ samples then your $k=n$, so you have n groups, or each group has 1 sample. Otherwise, it's safe to use $k=10$.\n",
    "\n",
    "Let's get our data again and randomize it. Then implement cross validation. You should be able to use the `train` and `validate` methods you implemented before. We'll only use 5000 samples because training takes a long time. The hard part is to split the 5000 samples and labels into 2 groups, 1 composed of 4500 items and the other with 500 items. \n",
    "\n",
    "Hint: Use a range(X.shape[0]) to get a list of numbers between [0, X.shape[0]) to use as indicies, then split the list into 2 groups, training and validation, for each iteration in k iterations. Then do X_train = X[train_indices], and X_val = X[val_indices], and do the same for y."
   ]
  },
  {
   "cell_type": "code",
   "execution_count": 20,
   "metadata": {
    "collapsed": false
   },
   "outputs": [],
   "source": [
    "train_random_indices = random_indices(range(60000))\n",
    "X, y = train_images[train_random_indices], train_labels[train_random_indices]\n",
    "# Take the first 5000 randomized samples\n",
    "X, y = X[:5000], y[:5000]\n"
   ]
  },
  {
   "cell_type": "code",
   "execution_count": 21,
   "metadata": {
    "collapsed": false
   },
   "outputs": [
    {
     "name": "stdout",
     "output_type": "stream",
     "text": [
      "Accuracy for iteration 0 is 0.788\n",
      "Accuracy for iteration 1 is 0.818\n",
      "Accuracy for iteration 2 is 0.752\n",
      "Accuracy for iteration 3 is 0.734\n",
      "Accuracy for iteration 4 is 0.782\n",
      "Accuracy for iteration 5 is 0.756\n",
      "Accuracy for iteration 6 is 0.764\n",
      "Accuracy for iteration 7 is 0.772\n",
      "Accuracy for iteration 8 is 0.768\n",
      "Accuracy for iteration 9 is 0.782\n"
     ]
    },
    {
     "data": {
      "text/plain": [
       "0.7716000000000001"
      ]
     },
     "execution_count": 21,
     "metadata": {},
     "output_type": "execute_result"
    }
   ],
   "source": [
    "def cross_validation(X, y, k=10):\n",
    "    accuracies = []\n",
    "    split_size = X.shape[0] / k # 500 \n",
    "    indices = range(X.shape[0]) # (0, 5000)\n",
    "    for i in range(k): # for i in 10\n",
    "        val_indices = indices[split_size * i : (i+1) * split_size]\n",
    "        train_indices = indices[: split_size * i] + indices[(i+1) * split_size:]\n",
    "        X_train, X_val = X[train_indices], X[val_indices]\n",
    "        y_train, y_val = y[train_indices], y[val_indices]\n",
    "        training = train(X_train, y_train, C=1)\n",
    "        accuracy = validate(training, X_val, y_val)\n",
    "        accuracies.append(accuracy)\n",
    "        print \"Accuracy for iteration {0} is {1}\".format(i, accuracy)\n",
    "    return sum(accuracies) * 1. / len(accuracies)\n",
    "\n",
    "cross_validation(X, y, k=10)"
   ]
  },
  {
   "cell_type": "code",
   "execution_count": 25,
   "metadata": {
    "collapsed": false
   },
   "outputs": [
    {
     "name": "stdout",
     "output_type": "stream",
     "text": [
      "LinearSVC(C=1, class_weight=None, dual=True, fit_intercept=True,\n",
      "     intercept_scaling=1, loss='squared_hinge', max_iter=1000,\n",
      "     multi_class='ovr', penalty='l2', random_state=None, tol=0.0001,\n",
      "     verbose=0)\n",
      "SVC(C=1, cache_size=200, class_weight=None, coef0=0.0,\n",
      "  decision_function_shape=None, degree=3, gamma='auto', kernel='linear',\n",
      "  max_iter=-1, probability=False, random_state=None, shrinking=True,\n",
      "  tol=0.001, verbose=False)\n",
      "SVC(C=1, cache_size=200, class_weight=None, coef0=0.0,\n",
      "  decision_function_shape=None, degree=3, gamma='auto', kernel='linear',\n",
      "  max_iter=-1, probability=False, random_state=None, shrinking=True,\n",
      "  tol=0.001, verbose=False)\n"
     ]
    }
   ],
   "source": [
    "def train(clf, X_train, y_train, C=1):\n",
    "    clf.fit(X_train, y_train)\n",
    "    return clf\n",
    "\n",
    "clf = svm.LinearSVC(C=1)\n",
    "print clf\n",
    "clf = svm.SVC(kernel='linear', C=1)\n",
    "print clf\n",
    "hyperparams = {'kernel': 'linear', 'C': 1}\n",
    "clf = svm.SVC(**hyperparams)\n",
    "print clf"
   ]
  },
  {
   "cell_type": "code",
   "execution_count": 241,
   "metadata": {
    "collapsed": false
   },
   "outputs": [
    {
     "name": "stdout",
     "output_type": "stream",
     "text": [
      "SVC(C=1, cache_size=200, class_weight=None, coef0=0.0,\n",
      "  decision_function_shape=None, degree=3, gamma='auto', kernel='linear',\n",
      "  max_iter=-1, probability=False, random_state=None, shrinking=True,\n",
      "  tol=0.001, verbose=False)\n"
     ]
    }
   ],
   "source": [
    "print clf"
   ]
  },
  {
   "cell_type": "markdown",
   "metadata": {},
   "source": [
    "Modify cross validation to use the new `train` method."
   ]
  },
  {
   "cell_type": "code",
   "execution_count": 26,
   "metadata": {
    "collapsed": true
   },
   "outputs": [],
   "source": [
    "def cross_validation(clf, X, y, k=10):\n",
    "    accuracies = []\n",
    "    split_size = X.shape[0] / k\n",
    "    indices = range(X.shape[0])\n",
    "    for i in range(k):\n",
    "        val_indices = indices[split_size * i : (i+1) * split_size]\n",
    "        train_indices = indices[: split_size * i] + indices[(i+1) * split_size:]\n",
    "        X_train, X_val = X[train_indices], X[val_indices]\n",
    "        y_train, y_val = y[train_indices], y[val_indices]\n",
    "        training = train(clf, X_train, y_train, C=1)\n",
    "        accuracy = validate(training, X_val, y_val)\n",
    "        accuracies.append(accuracy)\n",
    "        print \"Accuracy for iteration {0} is {1}\".format(i, accuracy)\n",
    "    return sum(accuracies) * 1. / len(accuracies)"
   ]
  },
  {
   "cell_type": "markdown",
   "metadata": {},
   "source": [
    "Now, let's test several sets hyperparameters to see which one's best. Do add more hyperparameters to the list. This is for you to explore which hyperparameters is best. I don't know which is, so you tell me.\n",
    "\n",
    "Refer to <a href=\"http://scikit-learn.org/stable/modules/generated/sklearn.svm.SVC.html\">SVC documentation</a> to learn which hyperparameters are there."
   ]
  },
  {
   "cell_type": "code",
   "execution_count": null,
   "metadata": {
    "collapsed": false
   },
   "outputs": [
    {
     "name": "stdout",
     "output_type": "stream",
     "text": [
      "Accuracy for iteration 0 is 0.872\n",
      "Accuracy for iteration 1 is 0.876\n",
      "Accuracy for iteration 2 is 0.848\n",
      "Accuracy for iteration 3 is 0.852\n",
      "Accuracy for iteration 4 is 0.854\n",
      "Accuracy for iteration 5 is 0.858\n",
      "Accuracy for iteration 6 is 0.87\n",
      "Accuracy for iteration 7 is 0.852\n",
      "Accuracy for iteration 8 is 0.866\n",
      "Accuracy for iteration 9 is 0.87\n",
      "{'kernel': 'linear', 'C': 1}\n",
      "Cross validation accuracy is 0.8618\n",
      "Accuracy for iteration 0 is 0.934\n",
      "Accuracy for iteration 1 is 0.944\n",
      "Accuracy for iteration 2 is 0.908\n"
     ]
    }
   ],
   "source": [
    "h = [{'kernel': 'linear', 'C': 1}, {'kernel': 'poly', 'degree': 2, 'C': 1}]\n",
    "for hyperparams in h:\n",
    "    clf = svm.SVC(**hyperparams)\n",
    "    acc = cross_validation(clf, X, y, k=10)\n",
    "    print hyperparams\n",
    "    print \"Cross validation accuracy is {0}\".format(acc)"
   ]
  }
 ],
 "metadata": {
  "kernelspec": {
   "display_name": "Python 2",
   "language": "python",
   "name": "python2"
  },
  "language_info": {
   "codemirror_mode": {
    "name": "ipython",
    "version": 2
   },
   "file_extension": ".py",
   "mimetype": "text/x-python",
   "name": "python",
   "nbconvert_exporter": "python",
   "pygments_lexer": "ipython2",
   "version": "2.7.11"
  }
 },
 "nbformat": 4,
 "nbformat_minor": 0
}
